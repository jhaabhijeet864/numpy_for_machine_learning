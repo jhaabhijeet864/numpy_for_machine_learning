{
 "cells": [
  {
   "cell_type": "markdown",
   "id": "109af8f4",
   "metadata": {},
   "source": [
    "## Universal Functions (Ufuncs)"
   ]
  },
  {
   "cell_type": "markdown",
   "id": "6b00c259",
   "metadata": {},
   "source": [
    " These functions perform fast, element-by-element operations on nparrays through \"Vectorization\" : this applies operation to every element without the need for python's \"for\" loop."
   ]
  },
  {
   "cell_type": "markdown",
   "id": "a9dd7171",
   "metadata": {},
   "source": [
    "| Operation | Python Operator | Ufunc | Description |\n",
    "| :--- | :---: | ---: | ---: |\n",
    "| Addition | + |np.add(A, B) | Adds corresponding element |\n",
    "| Substraction | - |np.subtract(A, B) | Substract corresponding elements |\n",
    "| Multiplication | * |np.multiply(A, B) | Element-wise product (not matrix) |\n",
    "| Division | / |np.divide(A, B) | Divides corresponding elements. |\n",
    "| Exponentiation | ** |np.power(A, B) | Raises the first array's elemts to pwoer of the second | "
   ]
  },
  {
   "cell_type": "code",
   "execution_count": null,
   "id": "3b33a1d9",
   "metadata": {},
   "outputs": [],
   "source": [
    "import numpy as np"
   ]
  },
  {
   "cell_type": "code",
   "execution_count": null,
   "id": "9ac8b511",
   "metadata": {},
   "outputs": [
    {
     "name": "stdout",
     "output_type": "stream",
     "text": [
      "[1 2 3] [10 20 30]\n"
     ]
    }
   ],
   "source": [
    "A = np.array([1,2,3])\n",
    "B = np.array([10,20,30])\n",
    "scalar = 5\n",
    "print(A,B)"
   ]
  },
  {
   "cell_type": "markdown",
   "id": "08f37152",
   "metadata": {},
   "source": [
    "### Sum of nparray"
   ]
  },
  {
   "cell_type": "code",
   "execution_count": 4,
   "id": "29bca7ac",
   "metadata": {},
   "outputs": [
    {
     "name": "stdout",
     "output_type": "stream",
     "text": [
      "[11 22 33]\n"
     ]
    }
   ],
   "source": [
    "sum_array = A + B\n",
    "print(sum_array)"
   ]
  },
  {
   "cell_type": "markdown",
   "id": "42e287da",
   "metadata": {},
   "source": [
    "### Element-wise multiplication"
   ]
  },
  {
   "cell_type": "code",
   "execution_count": 21,
   "id": "e6746917",
   "metadata": {},
   "outputs": [
    {
     "name": "stdout",
     "output_type": "stream",
     "text": [
      "Array A:  [1 2 3]\n",
      "Array B:  [10 20 30]\n",
      "Element wise multiplication:  [10 40 90]\n"
     ]
    }
   ],
   "source": [
    "product_array = A * B\n",
    "print(\"Array A: \", A)\n",
    "print(\"Array B: \", B)\n",
    "print(\"Element wise multiplication: \",product_array)\n",
    "# This is NOT a 1x3 times 3x1 dot product. It's [1*10, 2*20, 3*30]"
   ]
  },
  {
   "cell_type": "markdown",
   "id": "99c6c86f",
   "metadata": {},
   "source": [
    "### Array + Scalar "
   ]
  },
  {
   "cell_type": "code",
   "execution_count": 19,
   "id": "b61f5da8",
   "metadata": {},
   "outputs": [
    {
     "name": "stdout",
     "output_type": "stream",
     "text": [
      "Original Array A:  [1 2 3]\n",
      "Scalar added to each element:  [6 7 8]\n"
     ]
    }
   ],
   "source": [
    "# Broadcasting is happeninng here\n",
    "scalar = 5\n",
    "print(\"Original Array A: \", A)\n",
    "sum_array = A + scalar\n",
    "# This scakar 5 is applied to every element of A.\n",
    "print(\"Scalar added to each element: \",sum_array)\n"
   ]
  },
  {
   "cell_type": "markdown",
   "id": "422e8147",
   "metadata": {},
   "source": [
    "### Exponentiation "
   ]
  },
  {
   "cell_type": "code",
   "execution_count": 23,
   "id": "fee4ed28",
   "metadata": {},
   "outputs": [
    {
     "name": "stdout",
     "output_type": "stream",
     "text": [
      "Array A:  [1 2 3]\n",
      "Raisning whole array by power 2:  [1 4 9]\n"
     ]
    }
   ],
   "source": [
    "power_array = A ** 2\n",
    "print(\"Array A: \", A)\n",
    "print(\"Raisning whole array by power 2: \", power_array)"
   ]
  },
  {
   "cell_type": "markdown",
   "id": "aba1219c",
   "metadata": {},
   "source": [
    "## Other Common Ufuncs"
   ]
  },
  {
   "cell_type": "markdown",
   "id": "acaf3467",
   "metadata": {},
   "source": [
    "| Ufunc | Example | Description | Application in ML/DS |\n",
    "| :--- | :--- | :--- | :--- |\n",
    "| **`np.abs(arr)`** | `np.abs([-1, 2, -3])` $\\rightarrow$ `[1, 2, 3]` | Calculates the **absolute value** of every element. | Used in calculating error/loss (e.g., **Mean Absolute Error**). |\n",
    "| **`np.exp(arr)`** | `np.exp([0, 1])` $\\rightarrow$ `[1.0, 2.718...]` | Calculates $e^x$ for every element $x$. | Fundamental for **Sigmoid** and **Softmax** activation functions. |\n",
    "| **`np.log(arr)`** | `np.log([1, 2])` $\\rightarrow$ `[0.0, 0.693...]` | Calculates the **natural logarithm ($\\ln x$)** of every element. | Key in **Cross-Entropy Loss** and data normalization. |\n",
    "| **`np.sin(arr)`** | `np.sin(np.pi)` $\\rightarrow$ `0.0` | Calculates the **sine** of elements (in radians). | Useful for engineering features from cyclical data (e.g., time/date). |"
   ]
  },
  {
   "cell_type": "code",
   "execution_count": 26,
   "id": "03583417",
   "metadata": {},
   "outputs": [
    {
     "name": "stdout",
     "output_type": "stream",
     "text": [
      "Theta:  [0.         1.57079633 3.14159265]\n"
     ]
    }
   ],
   "source": [
    "# Applying Ufuncs for Machine Learning Basics\n",
    "theta = np.array([0, np.pi/2, np.pi])\n",
    "print(\"Theta: \", theta)"
   ]
  },
  {
   "cell_type": "markdown",
   "id": "62320ff7",
   "metadata": {},
   "source": [
    "### 1. np.sin (Trignometric)"
   ]
  },
  {
   "cell_type": "code",
   "execution_count": 27,
   "id": "4a837623",
   "metadata": {},
   "outputs": [
    {
     "name": "stdout",
     "output_type": "stream",
     "text": [
      "sin theta:  [0.0000000e+00 1.0000000e+00 1.2246468e-16]\n"
     ]
    }
   ],
   "source": [
    "sin_vals = np.sin(theta)\n",
    "print(\"sin theta: \", sin_vals)"
   ]
  },
  {
   "cell_type": "markdown",
   "id": "5fdcc993",
   "metadata": {},
   "source": [
    "### 2. np.exp (Exponential) "
   ]
  },
  {
   "cell_type": "code",
   "execution_count": 30,
   "id": "acd38a04",
   "metadata": {},
   "outputs": [
    {
     "name": "stdout",
     "output_type": "stream",
     "text": [
      "exp:  [1.64872127 0.60653066 2.71828183]\n"
     ]
    }
   ],
   "source": [
    "# activation functions \n",
    "scores = np.array([0.5, -0.5, 1.0])\n",
    "exp_scores = np.exp(scores)\n",
    "print(\"exp: \", exp_scores)"
   ]
  }
 ],
 "metadata": {
  "kernelspec": {
   "display_name": "venv",
   "language": "python",
   "name": "python3"
  },
  "language_info": {
   "codemirror_mode": {
    "name": "ipython",
    "version": 3
   },
   "file_extension": ".py",
   "mimetype": "text/x-python",
   "name": "python",
   "nbconvert_exporter": "python",
   "pygments_lexer": "ipython3",
   "version": "3.11.9"
  }
 },
 "nbformat": 4,
 "nbformat_minor": 5
}
