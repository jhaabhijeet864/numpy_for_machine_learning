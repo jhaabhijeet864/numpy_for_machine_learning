{
 "cells": [
  {
   "cell_type": "markdown",
   "id": "a89b17d4",
   "metadata": {},
   "source": [
    "## Numpy Basics and Fundamentals\n",
    "Learn about nummpy in python with chai aur code"
   ]
  },
  {
   "cell_type": "code",
   "execution_count": 3,
   "id": "9b137dcc",
   "metadata": {},
   "outputs": [],
   "source": [
    "import numpy as np"
   ]
  },
  {
   "cell_type": "markdown",
   "id": "4a34f606",
   "metadata": {},
   "source": [
    "### Creating array from lists"
   ]
  },
  {
   "cell_type": "code",
   "execution_count": 7,
   "id": "2215756a",
   "metadata": {},
   "outputs": [
    {
     "name": "stdout",
     "output_type": "stream",
     "text": [
      "1D Array: [1 2 3 4 4 5]\n",
      "2D Array: [[1 2 3]\n",
      " [4 4 5]]\n"
     ]
    }
   ],
   "source": [
    "arr_1d = np.array([1,2,3,4,4,5])\n",
    "print(\"1D Array:\", arr_1d)\n",
    "\n",
    "arr_2d = np.array([[1,2,3],[4,4,5]])\n",
    "print(\"2D Array:\", arr_2d)"
   ]
  },
  {
   "cell_type": "markdown",
   "id": "55446fad",
   "metadata": {},
   "source": [
    "### List vs Numpy Array"
   ]
  },
  {
   "cell_type": "code",
   "execution_count": 9,
   "id": "aaec294b",
   "metadata": {},
   "outputs": [
    {
     "name": "stdout",
     "output_type": "stream",
     "text": [
      "Python List Multiplication: [1, 2, 3, 1, 2, 3]\n",
      "Python Array Multiplication: [2 4 6]\n",
      "\n",
      " List Operation Time 0.04700446128845215\n",
      "\n",
      " Numpy Array Operation Time 0.006596803665161133\n"
     ]
    }
   ],
   "source": [
    "py_list = [1,2,3]\n",
    "print(\"Python List Multiplication:\", py_list * 2)\n",
    "\n",
    "# element wise multiplcation of numpy array\n",
    "np_array = np.array([1,2,3])\n",
    "print(\"Python Array Multiplication:\", np_array * 2)\n",
    "\n",
    "import time\n",
    "start = time.time()\n",
    "py_list = [i*2 for i in range(1000000)]\n",
    "print(\"\\n List Operation Time\", time.time() - start)\n",
    "\n",
    "start = time.time()\n",
    "np_array = np.arange(1000000) * 2\n",
    "print(\"\\n Numpy Array Operation Time\", time.time() - start)"
   ]
  },
  {
   "cell_type": "markdown",
   "id": "c718c190",
   "metadata": {},
   "source": [
    "### Creating Array from Scratch"
   ]
  },
  {
   "cell_type": "code",
   "execution_count": 17,
   "id": "6d14e1f9",
   "metadata": {},
   "outputs": [
    {
     "name": "stdout",
     "output_type": "stream",
     "text": [
      "Zeros: \n",
      " [[0. 0. 0. 0.]\n",
      " [0. 0. 0. 0.]\n",
      " [0. 0. 0. 0.]]\n",
      "ones: \n",
      " [[1. 1. 1.]\n",
      " [1. 1. 1.]]\n",
      "Full: \n",
      " [[7 7]\n",
      " [7 7]]\n",
      "random: \n",
      " [[0.11068585 0.08956919 0.5540895 ]\n",
      " [0.250707   0.3695976  0.69983751]\n",
      " [0.97095064 0.02801171 0.54305331]]\n",
      "Sequence: \n",
      " [0 2 4 6 8]\n"
     ]
    }
   ],
   "source": [
    "# zeros array\n",
    "zeros = np.zeros((3,4))\n",
    "print(\"Zeros: \\n\", zeros)\n",
    "\n",
    "# ones array\n",
    "ones = np.ones((2,3))\n",
    "print(\"ones: \\n\", ones)\n",
    "\n",
    "# full array \n",
    "full = np.full((2,2), 7)\n",
    "print(\"Full: \\n\", full)\n",
    "\n",
    "# random\n",
    "random = np.random.random((3,3))\n",
    "print(\"random: \\n\", random)\n",
    "\n",
    "# creating a sequence\n",
    "sequence = np.arange(0, 10, 2)\n",
    "print(\"Sequence: \\n\", sequence)"
   ]
  },
  {
   "cell_type": "markdown",
   "id": "d10f772d",
   "metadata": {},
   "source": [
    "### Vector, Matrix and Tensor"
   ]
  },
  {
   "cell_type": "code",
   "execution_count": null,
   "id": "26283dfe",
   "metadata": {},
   "outputs": [
    {
     "name": "stdout",
     "output_type": "stream",
     "text": [
      "VECTOR: \n",
      " [1 2 3]\n",
      "MATRIX: \n",
      " [[1 2 3]\n",
      " [1 2 3]]\n",
      "Tensor: \n",
      " [[[1 2]\n",
      "  [3 4]]\n",
      "\n",
      " [[5 6]\n",
      "  [7 8]]]\n"
     ]
    }
   ],
   "source": [
    "vector = np.array([1,2,3])\n",
    "print(\"VECTOR: \\n\", vector)\n",
    "\n",
    "# 2D or Matrix \n",
    "matrix = np.array([[1,2,3],\n",
    "                   [1,2,3]])\n",
    "print(\"MATRIX: \\n\", matrix)\n",
    "\n",
    "# Tensors : multi-dimensional array\n",
    "tensor = np.array([[[1,2],[3,4]],\n",
    "                    [[5,6],[7,8]]])\n",
    "print(\"Tensor: \\n\", tensor)\n",
    "# Plants the use of heavy calculation\n",
    "# TENSROFLOW, PYTORCH, TPU : Tensor Processing Unit"
   ]
  },
  {
   "cell_type": "markdown",
   "id": "daaf0294",
   "metadata": {},
   "source": [
    "### Array Properties"
   ]
  },
  {
   "cell_type": "code",
   "execution_count": null,
   "id": "3bca8a14",
   "metadata": {},
   "outputs": [
    {
     "name": "stdout",
     "output_type": "stream",
     "text": [
      "Shape of Array:  (2, 3)\n",
      "Dimension of Array:  2\n",
      "Size of Array:  6\n",
      "Data type of Array:  int64\n"
     ]
    }
   ],
   "source": [
    "arr = np.array([[1,2,3],\n",
    "               [4,5,6]])\n",
    "\n",
    "# Although, it won't raise an error, but numpy array operations,\n",
    "# are optimized as they're suppossed to have similar data_types!!! \n",
    "print(\"Shape of Array: \", arr.shape)\n",
    "print(\"Dimension of Array: \", arr.ndim)\n",
    "print(\"Size of Array: \", arr.size)\n",
    "print(\"Data type of Array: \", arr.dtype)"
   ]
  },
  {
   "cell_type": "markdown",
   "id": "ffc3c17d",
   "metadata": {},
   "source": [
    "### Array Reshaping"
   ]
  },
  {
   "cell_type": "code",
   "execution_count": 42,
   "id": "7efd0b97",
   "metadata": {},
   "outputs": [
    {
     "name": "stdout",
     "output_type": "stream",
     "text": [
      "Original Array: [ 0  1  2  3  4  5  6  7  8  9 10 11]\n",
      "\n",
      " Reshaped Array: \n",
      " [[ 0  1  2  3]\n",
      " [ 4  5  6  7]\n",
      " [ 8  9 10 11]]\n",
      "\n",
      " Flattened Array:  [ 0  1  2  3  4  5  6  7  8  9 10 11]\n",
      "\n",
      " Ravelled Array:  [ 0  1  2  3  4  5  6  7  8  9 10 11]\n",
      "\n",
      " Transpose: \n",
      " [[ 0  4  8]\n",
      " [ 1  5  9]\n",
      " [ 2  6 10]\n",
      " [ 3  7 11]]\n"
     ]
    }
   ],
   "source": [
    "arr = np.arange(12)\n",
    "print(\"Original Array:\",arr)\n",
    "\n",
    "reshaped = arr.reshape((3,4))\n",
    "print(\"\\n Reshaped Array: \\n\", reshaped)\n",
    "\n",
    "# Flattened (returns copy, instead of view)\n",
    "flattened = reshaped.flatten()\n",
    "print(\"\\n Flattened Array: \", flattened)\n",
    "\n",
    "# Ravel (returns view, instead of copy)\n",
    "raveled = reshaped.ravel()\n",
    "print(\"\\n Ravelled Array: \", raveled)\n",
    "\n",
    "# Transpose\n",
    "transpose = reshaped.T\n",
    "print(\"\\n Transpose: \\n\", transpose)"
   ]
  }
 ],
 "metadata": {
  "kernelspec": {
   "display_name": "venv",
   "language": "python",
   "name": "python3"
  },
  "language_info": {
   "codemirror_mode": {
    "name": "ipython",
    "version": 3
   },
   "file_extension": ".py",
   "mimetype": "text/x-python",
   "name": "python",
   "nbconvert_exporter": "python",
   "pygments_lexer": "ipython3",
   "version": "3.11.9"
  }
 },
 "nbformat": 4,
 "nbformat_minor": 5
}
