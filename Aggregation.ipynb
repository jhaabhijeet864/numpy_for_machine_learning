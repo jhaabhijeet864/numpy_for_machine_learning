{
 "cells": [
  {
   "cell_type": "markdown",
   "id": "e6be7385",
   "metadata": {},
   "source": [
    "# Aggreagation Functions \n"
   ]
  },
  {
   "cell_type": "markdown",
   "id": "d9c064eb",
   "metadata": {},
   "source": [
    "##### Reduction functions -> take an array and reduce it down to a single value, or a smaller array."
   ]
  },
  {
   "cell_type": "markdown",
   "id": "3fcb7fd3",
   "metadata": {},
   "source": [
    "## Essential NumPy Statistical Functions for ML/DS\n",
    "\n",
    "| Function | Description | Example Output | Application in ML/DS |\n",
    "| :--- | :--- | :--- | :--- |\n",
    "| `np.sum(arr)` | Calculates the **total sum** of all elements. | $15$ | Calculating total loss or the sum of weighted inputs. |\n",
    "| `np.mean(arr)` | Calculates the **arithmetic mean** (average). | $3.0$ | Finding the **average value of a feature** (for normalization). |\n",
    "| `np.median(arr)` | Calculates the **median** (middle value) of the array. | $3.0$ | Useful for statistics **less sensitive to outliers**. |\n",
    "| `np.std(arr)` | Calculates the **standard deviation**. | $1.41...$ | Key for **Standard Scaling** data during pre-processing. |\n",
    "| `np.var(arr)` | Calculates the **variance** (standard deviation squared). | $2.0$ | **Measuring the spread** of the data. |\n",
    "| `np.min(arr)` | Finds the **minimum value**. | $1$ | Useful for **min-max scaling** and finding range. |\n",
    "| `np.max(arr)` | Finds the **maximum value**. | $5$ | Useful for **min-max scaling** and finding range. |\n",
    "| `np.argmin(arr)` | Returns the **index** of the minimum value. | $0$ | Finding the **index of the predicted class with the lowest error**. |\n",
    "| `np.argmax(arr)` | Returns the **index** of the maximum value. | $4$ | Essential for **finding the predicted class in classification models**. |"
   ]
  },
  {
   "cell_type": "code",
   "execution_count": 1,
   "id": "39ba1df0",
   "metadata": {},
   "outputs": [],
   "source": [
    "import numpy as np"
   ]
  },
  {
   "cell_type": "code",
   "execution_count": 6,
   "id": "a6b6f025",
   "metadata": {},
   "outputs": [
    {
     "name": "stdout",
     "output_type": "stream",
     "text": [
      "Total Sum: 17\n",
      "Average: 3.4\n",
      "Max Value: 5\n",
      "Index of Max: 1\n"
     ]
    }
   ],
   "source": [
    "data_id = np.array([1, 5, 2, 4, 5])\n",
    "\n",
    "print(f\"Total Sum: {np.sum(data_id)}\")\n",
    "print(f\"Average: {np.mean(data_id)}\")\n",
    "print(f\"Max Value: {np.max(data_id)}\")\n",
    "print(f\"Index of Max: {np.argmax(data_id)}\")\n"
   ]
  },
  {
   "cell_type": "code",
   "execution_count": 8,
   "id": "ba307afb",
   "metadata": {},
   "outputs": [
    {
     "name": "stdout",
     "output_type": "stream",
     "text": [
      "[[ 1  2  3  4]\n",
      " [ 5  6  7  8]\n",
      " [ 9 10 11 12]]\n"
     ]
    }
   ],
   "source": [
    "matrix = np.array([[1, 2, 3, 4],\n",
    "                  [5, 6, 7, 8],\n",
    "                  [9, 10, 11, 12]])\n",
    "\n",
    "print(matrix)"
   ]
  },
  {
   "cell_type": "code",
   "execution_count": null,
   "id": "5b313d0f",
   "metadata": {},
   "outputs": [
    {
     "name": "stdout",
     "output_type": "stream",
     "text": [
      "oVERALL Mean: 6.5\n"
     ]
    }
   ],
   "source": [
    "# Aggregaton voer the entire array\n",
    "print(F\"oVERALL Mean: {np.mean(matrix)}\") # Mean of all 12 numbers \n",
    "\n"
   ]
  },
  {
   "cell_type": "markdown",
   "id": "1ecb735f",
   "metadata": {},
   "source": [
    "## Axis Parameter"
   ]
  },
  {
   "cell_type": "code",
   "execution_count": 15,
   "id": "685852a5",
   "metadata": {},
   "outputs": [
    {
     "name": "stdout",
     "output_type": "stream",
     "text": [
      "[[ 1  2  3  4]\n",
      " [ 5  6  7  8]\n",
      " [ 9 10 11 12]]\n",
      "\n",
      "Mean by feature (axis = 0): [5. 6. 7. 8.]\n",
      "\n",
      "Sum by sample (axis = 1): [10 26 42]\n"
     ]
    }
   ],
   "source": [
    "matrix = np.array([[1, 2, 3, 4],\n",
    "                  [5, 6, 7, 8],\n",
    "                  [9, 10, 11, 12]])\n",
    "\n",
    "print(matrix)\n",
    "\n",
    "# Aggregation along axis = 0 ( across rows )\n",
    "mean_by_feature = np.mean(matrix, axis = 0)\n",
    "print(f\"\\nMean by feature (axis = 0): {mean_by_feature}\")\n",
    "\n",
    "# Aggreagation along axis = 0 ( across columns )\n",
    "sum_by_sample = np.sum(matrix, axis = 1)\n",
    "print(f\"\\nSum by sample (axis = 1): {sum_by_sample}\")"
   ]
  },
  {
   "cell_type": "markdown",
   "id": "cf65bab5",
   "metadata": {},
   "source": [
    "## Cumulative Aggregation"
   ]
  },
  {
   "cell_type": "code",
   "execution_count": 16,
   "id": "50e69429",
   "metadata": {},
   "outputs": [],
   "source": [
    "# Cumulative version of some functions  \n",
    "# Produces an array where each element is result of operation up to the point\n",
    "data = np.array([1, 2, 3, 5])"
   ]
  },
  {
   "cell_type": "markdown",
   "id": "e31e8f5e",
   "metadata": {},
   "source": [
    "1. np.cumsum(arr): Cumulative sum.\n",
    "2. np.cumprod(arr): Cumulative product."
   ]
  },
  {
   "cell_type": "code",
   "execution_count": 18,
   "id": "ac1365d1",
   "metadata": {},
   "outputs": [
    {
     "name": "stdout",
     "output_type": "stream",
     "text": [
      "Cumulative Sum: [ 1  3  6 11]\n"
     ]
    }
   ],
   "source": [
    "cumulative_sum = np.cumsum(data)\n",
    "print(F\"Cumulative Sum: {cumulative_sum}\")"
   ]
  }
 ],
 "metadata": {
  "kernelspec": {
   "display_name": "venv",
   "language": "python",
   "name": "python3"
  },
  "language_info": {
   "codemirror_mode": {
    "name": "ipython",
    "version": 3
   },
   "file_extension": ".py",
   "mimetype": "text/x-python",
   "name": "python",
   "nbconvert_exporter": "python",
   "pygments_lexer": "ipython3",
   "version": "3.11.9"
  }
 },
 "nbformat": 4,
 "nbformat_minor": 5
}
