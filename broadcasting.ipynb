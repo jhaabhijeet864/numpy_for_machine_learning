{
 "cells": [
  {
   "cell_type": "markdown",
   "id": "5d63974d",
   "metadata": {},
   "source": [
    "# Broadcasting"
   ]
  },
  {
   "cell_type": "markdown",
   "id": "ff9c3f63",
   "metadata": {},
   "source": [
    "###### These are set of rules that Numpy uses to allow Universal Functions (Ufuncs) to work in arrays of different shapes, making array arithmetic efficient without needing to manually replicate data."
   ]
  },
  {
   "cell_type": "markdown",
   "id": "cd830966",
   "metadata": {},
   "source": [
    "###### Normally, element-wise operations (like addition) require the arrays to have exactly the same shape:"
   ]
  },
  {
   "attachments": {
    "image.png": {
     "image/png": "[encoded data removed]"
    }
   },
   "cell_type": "markdown",
   "id": "90b284cf",
   "metadata": {},
   "source": [
    "![image.png](attachment:image.png)"
   ]
  },
  {
   "cell_type": "markdown",
   "id": "80aa4451",
   "metadata": {},
   "source": [
    "###### Without broadcasting, if you wanted to add 10 to every element of the first array, you would have to manually create the second $2 \\times 3$ array of all $10$s. Broadcasting does this conceptually for you, saving memory and processing time."
   ]
  },
  {
   "cell_type": "code",
   "execution_count": null,
   "id": "bede76d1",
   "metadata": {},
   "outputs": [],
   "source": [
    "import numpy as np"
   ]
  },
  {
   "cell_type": "code",
   "execution_count": 8,
   "id": "224cd260",
   "metadata": {},
   "outputs": [
    {
     "name": "stdout",
     "output_type": "stream",
     "text": [
      "Matrix:\n",
      " [[10 20 30]\n",
      " [40 50 60]]\n",
      "Vector:\n",
      " [1 2 3]\n"
     ]
    }
   ],
   "source": [
    "# A (2x3 Matrix): Imagine 2 data samples with 3 features each\n",
    "A = np.array([[10, 20, 30],\n",
    "              [40, 50, 60]])\n",
    "print(\"Matrix:\\n\", A)\n",
    "\n",
    "# B (1x3 Vector): Imagine a bias term forthe 3 features\n",
    "B = np.array([1, 2, 3])\n",
    "print(\"Vector:\\n\", B)"
   ]
  },
  {
   "cell_type": "markdown",
   "id": "48365de3",
   "metadata": {},
   "source": [
    "##### Vector gets added to both the rows of the matrix"
   ]
  },
  {
   "cell_type": "code",
   "execution_count": null,
   "id": "d04c0b29",
   "metadata": {},
   "outputs": [
    {
     "name": "stdout",
     "output_type": "stream",
     "text": [
      "A + B:\n",
      " [[11 22 33]\n",
      " [41 52 63]]\n"
     ]
    }
   ],
   "source": [
    "print(\"A + B:\\n\", A + B)\n",
    "# Output:\n",
    "# [[11, 22, 33]  <- [10, 20, 30] + [1, 2, 3]\n",
    "#  [41, 52, 63]]  <- [40, 50, 60] + [1, 2, 3]"
   ]
  },
  {
   "cell_type": "markdown",
   "id": "286d145e",
   "metadata": {},
   "source": [
    "## Two Rules of Broadcasting"
   ]
  },
  {
   "cell_type": "markdown",
   "id": "6ddf50b3",
   "metadata": {},
   "source": [
    "1. The dimensions are equal. (e.g., $3$ and $3$).\n",
    "2. One of the dimensions is 1. (e.g., $1$ and $5$)."
   ]
  },
  {
   "cell_type": "code",
   "execution_count": 12,
   "id": "9f4ca65b",
   "metadata": {},
   "outputs": [
    {
     "data": {
      "text/plain": [
       "' If neither of these rules is met, \\na ValueError: operands could not be broadcast together is raised.\\n'"
      ]
     },
     "execution_count": 12,
     "metadata": {},
     "output_type": "execute_result"
    }
   ],
   "source": [
    "\"\"\" If neither of these rules is met, \n",
    "a ValueError: operands could not be broadcast together is raised.\n",
    "\"\"\""
   ]
  },
  {
   "cell_type": "markdown",
   "id": "189ce592",
   "metadata": {},
   "source": [
    "| Array A Shape | Array B Shape | Compatible? | Resulting Shape | Conceptual Action |\n",
    "| :---: | :---: | :---: | :---: | :--- |\n",
    "| **(5, 4)** | **(4,)** | $\\checkmark$ (Rule 1: $4=4$) | **(5, 4)** | B is conceptually stretched across all 5 rows of A. |\n",
    "| **(4, 1)** | **(4,)** | $\\times$ (Rule 2 Fails: $1 \\neq 4$) | **Error** | The dimensions 1 and 4 are incompatible. |\n",
    "| **(5, 1)** | **(5, 6)** | $\\times$ (Rule 2 Fails: $1 \\neq 6$) | **Error** | The dimensions 1 and 6 are incompatible. |\n",
    "| **(5, 1)** | **(1, 6)** | $\\checkmark$ (Rule 2: $1$ vs $6$, then $5$ vs $1$) | **(5, 6)** | Both arrays are stretched to match the larger dimension. |"
   ]
  }
 ],
 "metadata": {
  "kernelspec": {
   "display_name": "venv",
   "language": "python",
   "name": "python3"
  },
  "language_info": {
   "codemirror_mode": {
    "name": "ipython",
    "version": 3
   },
   "file_extension": ".py",
   "mimetype": "text/x-python",
   "name": "python",
   "nbconvert_exporter": "python",
   "pygments_lexer": "ipython3",
   "version": "3.11.9"
  }
 },
 "nbformat": 4,
 "nbformat_minor": 5
}
