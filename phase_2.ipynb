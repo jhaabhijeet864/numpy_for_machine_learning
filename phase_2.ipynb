{
 "cells": [
  {
   "cell_type": "markdown",
   "id": "9609e8b2",
   "metadata": {},
   "source": [
    "##  Numpy Array Operations"
   ]
  },
  {
   "cell_type": "code",
   "execution_count": 1,
   "id": "84677b71",
   "metadata": {},
   "outputs": [],
   "source": [
    "import numpy as np"
   ]
  },
  {
   "cell_type": "markdown",
   "id": "9e8c30eb",
   "metadata": {},
   "source": [
    "### Slicing"
   ]
  },
  {
   "cell_type": "code",
   "execution_count": null,
   "id": "d466317f",
   "metadata": {},
   "outputs": [
    {
     "name": "stdout",
     "output_type": "stream",
     "text": [
      "Basic Slicing [3 4 5 6 7]\n",
      "With Step [3 5 7]\n",
      "Negative Indexing 8\n"
     ]
    }
   ],
   "source": [
    "arr = np.array([1,2,3,4,5,6,7,8,9,10])\n",
    "print(\"Basic Slicing\", arr[2:7])\n",
    "print(\"With Step\", arr[2:7:2])\n",
    "print(\"Negative Indexing\", arr[-3]) # Reverse Order"
   ]
  },
  {
   "cell_type": "code",
   "execution_count": null,
   "id": "ff957e0f",
   "metadata": {},
   "outputs": [
    {
     "name": "stdout",
     "output_type": "stream",
     "text": [
      "Specific Element 6\n",
      "Entire Row [4 5 6]\n",
      "Entire Column [2 5 8]\n"
     ]
    }
   ],
   "source": [
    "arr_2d = np.array([[1,2,3],\n",
    "                   [4,5,6],\n",
    "                   [7,8,9]])\n",
    "print(\"Specific Element\", arr_2d[1, 2]) # (Rows, Column)\n",
    "print(\"Entire Row\", arr_2d[1])\n",
    "print(\"Entire Column\", arr_2d[:,1])\n"
   ]
  },
  {
   "cell_type": "markdown",
   "id": "0307a0bc",
   "metadata": {},
   "source": [
    "### Sorting"
   ]
  },
  {
   "cell_type": "code",
   "execution_count": null,
   "id": "3e1f5895",
   "metadata": {},
   "outputs": [
    {
     "name": "stdout",
     "output_type": "stream",
     "text": [
      "Unsorted Array:  [3 1 4 5 2 7 6]\n",
      "Sorted Array:  [1 2 3 4 5 6 7]\n",
      "Unsorted 2d array: \n",
      " [[3 1]\n",
      " [1 2]\n",
      " [2 3]]\n",
      "Sorted 2d Array by Column: \n",
      " [[1 1]\n",
      " [2 2]\n",
      " [3 3]]\n",
      "Sorted 2d Array by Row: \n",
      " [[1 3]\n",
      " [1 2]\n",
      " [2 3]]\n"
     ]
    }
   ],
   "source": [
    "unsorted = np.array([3,1,4,5,2,7,6])\n",
    "\n",
    "print(\"Unsorted Array: \", unsorted)\n",
    "print(\"Sorted Array: \", np.sort(unsorted))\n",
    "\n",
    "arr_2d_unsorted = np.array([[3,1],\n",
    "                            [1,2],\n",
    "                            [2,3]])\n",
    "print(\"Unsorted 2d array: \\n\", arr_2d_unsorted)\n",
    "# Column wise sorting of 2d array  \n",
    "print(\"Sorted 2d Array by Column: \\n\", np.sort(arr_2d_unsorted, axis = 0)) # (arr, axis)\n",
    "# axis 1 => sorting but at individual row level only\n",
    "print(\"Sorted 2d Array by Row: \\n\", np.sort(arr_2d_unsorted, axis = 1))\n"
   ]
  },
  {
   "cell_type": "markdown",
   "id": "ba982fbb",
   "metadata": {},
   "source": [
    "### Filter"
   ]
  },
  {
   "cell_type": "code",
   "execution_count": 20,
   "id": "f8e9a9a8",
   "metadata": {},
   "outputs": [
    {
     "name": "stdout",
     "output_type": "stream",
     "text": [
      "Numbers:  [ 0  1  2  3  4  5  6  7  8  9 10]\n",
      "Even Numbers:  [ 0  2  4  6  8 10]\n"
     ]
    }
   ],
   "source": [
    "numbers = np.arange(11)\n",
    "print(\"Numbers: \", numbers)\n",
    "even_numbers = numbers[numbers % 2 == 0]\n",
    "print(\"Even Numbers: \",even_numbers)"
   ]
  },
  {
   "cell_type": "markdown",
   "id": "2f53a152",
   "metadata": {},
   "source": [
    "#### Filter with Mask"
   ]
  },
  {
   "cell_type": "code",
   "execution_count": null,
   "id": "96c5df71",
   "metadata": {},
   "outputs": [
    {
     "name": "stdout",
     "output_type": "stream",
     "text": [
      "Numbers greater than 5:  [ 6  7  8  9 10]\n"
     ]
    }
   ],
   "source": [
    "# mask is a term in numpy, and evaluating expression.\n",
    "# Eg: [numbers % 2 == 0]\n",
    "mask = numbers > 5 \n",
    "# Created and stored an expression, as a mask\n",
    "print(\"Numbers greater than 5: \", numbers[mask])"
   ]
  },
  {
   "cell_type": "markdown",
   "id": "1f420772",
   "metadata": {},
   "source": [
    "#### Fancy Indexing vs np.where()"
   ]
  },
  {
   "cell_type": "code",
   "execution_count": null,
   "id": "005a97be",
   "metadata": {},
   "outputs": [
    {
     "name": "stdout",
     "output_type": "stream",
     "text": [
      "[0 2 4]\n",
      "(array([ 6,  7,  8,  9, 10]),)\n",
      " NP Where [ 6  7  8  9 10]\n"
     ]
    }
   ],
   "source": [
    "indices = [0, 2, 4]\n",
    "print(numbers[indices])\n",
    "\n",
    "# np.where() is used to create a conditional where clause\n",
    "\n",
    "where_result =  np.where(numbers > 5) # where the condition is true, store in where_result\n",
    "print(\" NP Where\", numbers[where_result])"
   ]
  },
  {
   "cell_type": "code",
   "execution_count": null,
   "id": "9b2c72d9",
   "metadata": {},
   "outputs": [
    {
     "name": "stdout",
     "output_type": "stream",
     "text": [
      "[ 0  1  2  3  4  5  6  7  8  9 10]\n"
     ]
    }
   ],
   "source": [
    "condition_array = np.where(numbers > 5, numbers*2, numbers)\n",
    "# np.where(condition, x, y)\n",
    "print(condition_array)"
   ]
  }
 ],
 "metadata": {
  "kernelspec": {
   "display_name": "venv",
   "language": "python",
   "name": "python3"
  },
  "language_info": {
   "codemirror_mode": {
    "name": "ipython",
    "version": 3
   },
   "file_extension": ".py",
   "mimetype": "text/x-python",
   "name": "python",
   "nbconvert_exporter": "python",
   "pygments_lexer": "ipython3",
   "version": "3.11.9"
  }
 },
 "nbformat": 4,
 "nbformat_minor": 5
}
